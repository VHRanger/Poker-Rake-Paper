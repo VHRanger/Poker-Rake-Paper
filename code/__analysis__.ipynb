{
 "cells": [
  {
   "cell_type": "code",
   "execution_count": 1,
   "metadata": {},
   "outputs": [],
   "source": [
    "output_folder = \"../output/\""
   ]
  },
  {
   "cell_type": "code",
   "execution_count": 2,
   "metadata": {},
   "outputs": [
    {
     "name": "stderr",
     "output_type": "stream",
     "text": [
      "C:\\ProgramData\\Anaconda3\\lib\\site-packages\\statsmodels\\compat\\pandas.py:56: FutureWarning: The pandas.core.datetools module is deprecated and will be removed in a future version. Please use the pandas.tseries module instead.\n",
      "  from pandas.core import datetools\n"
     ]
    }
   ],
   "source": [
    "import matplotlib.pyplot as plt\n",
    "import numpy as np\n",
    "import pandas as pd\n",
    "import statsmodels.formula.api as smf\n",
    "import statsmodels.api as sm\n",
    "from statsmodels.tsa.stattools import adfuller\n",
    "from numba import jit\n",
    "import datetime\n",
    "import seaborn as sns\n",
    "from sklearn import cluster\n",
    "from sklearn import mixture\n",
    "from sklearn.preprocessing import normalize"
   ]
  },
  {
   "cell_type": "markdown",
   "metadata": {},
   "source": [
    "# Section x: Heterogeneity"
   ]
  },
  {
   "cell_type": "code",
   "execution_count": 3,
   "metadata": {},
   "outputs": [],
   "source": [
    "# import data\n",
    "sessions = pd.read_csv('../data/opp.csv')\n",
    "sessions = sessions.drop(\"Unnamed: 0\", 1)\n",
    "# Clean Sessions dataset\n",
    "sessions['Session Start'] = pd.to_datetime(sessions['Session Start'])\n",
    "sessions['My C Won'] = sessions['My C Won'\n",
    "                               ].replace(to_replace='\\$',value='', regex=True\n",
    "                               ).replace(to_replace='\\,',value='', regex=True\n",
    "                               ).astype('float')\n",
    "sessions['Won'] = sessions['Won'\n",
    "                          ].replace(to_replace='\\$',value='', regex=True\n",
    "                          ).replace(to_replace='\\,',value='', regex=True\n",
    "                          ).astype('float')\n",
    "sessions['BB vs SB call won'] = sessions['BB vs SB call won'\n",
    "                                        ].replace(to_replace='\\$',value='', regex=True\n",
    "                                        ).replace(to_replace='\\,',value='', regex=True\n",
    "                                        ).astype('float')\n",
    "sessions['won when 3bet pre'] = sessions['won when 3bet pre'\n",
    "                                        ].replace(to_replace='\\$',value='', regex=True\n",
    "                                        ).replace(to_replace='\\,',value='', regex=True\n",
    "                                        ).astype('float')\n",
    "sessions['Hands'] = sessions['Hands'\n",
    "                            ].replace(to_replace='\\,',value='', regex=True\n",
    "                            ).astype('float')\n",
    "\n",
    "for var_name in ['Fold BB v SB', 'VPIP', 'CBet F', '3Bet PF',\n",
    "       'StdDev(BB/100)', 'BB/100', 'All-In Adj BB', 'My C StdDev', \n",
    "        'StdDev', 'WWSF', 'WTSD %', 'My C Rake Share', 'Rake Share', \n",
    "        'Total AF', 'Donk F', 'Att To Steal']:\n",
    "    sessions[var_name] = pd.to_numeric(sessions[var_name\n",
    "                              ].replace('\\$','',regex=True\n",
    "                              ).replace(to_replace='\\,',value='', regex=True)\n",
    "                          , errors='coerce')\n",
    "\n",
    "sessions.fillna(0.0, inplace=True)"
   ]
  },
  {
   "cell_type": "code",
   "execution_count": 4,
   "metadata": {},
   "outputs": [],
   "source": [
    "# Label ephemeral players\n",
    "before = sessions[sessions['Session Start'] < \"2014-11-03\"]\n",
    "during = sessions[sessions['Session Start'] > \"2014-11-03\"]\n",
    "during = during[during['Session Start'] < \"2015-01-06\"]\n",
    "after = sessions[sessions['Session Start'] > \"2015-01-06\"]\n",
    "# Ampersand is set intersection\n",
    "players_before = list(set(before['Player']) & set(during['Player']))\n",
    "players_after = list(set(during['Player']) & set(after['Player']))\n",
    "players_list = list(set(players_before + players_after))\n",
    "\n",
    "sessions['ephemeral'] = ~sessions['Player'].isin(players_list)\n",
    "sessions['ephemeral opp'] = ~sessions['Opponent'].isin(players_list)"
   ]
  },
  {
   "cell_type": "markdown",
   "metadata": {},
   "source": [
    "**Labelling**"
   ]
  },
  {
   "cell_type": "code",
   "execution_count": 5,
   "metadata": {},
   "outputs": [],
   "source": [
    "# Create weighed averages in groups\n",
    "hands_weights = np.array(sessions['Hands'])\n",
    "tmp = sessions.drop('Session Start',1\n",
    "             ).drop('Player',1\n",
    "             ).drop('ephemeral opp',1\n",
    "             ).drop('Opponent',1)\n",
    "sessions_avg = hands_weights[:, None] * tmp\n",
    "sessions_avg['Player'] = sessions['Player']"
   ]
  },
  {
   "cell_type": "code",
   "execution_count": 6,
   "metadata": {},
   "outputs": [],
   "source": [
    "# Group by player name\n",
    "sessions_sum = sessions.groupby(sessions['Player']).sum()\n",
    "sessions_avg = sessions_avg.groupby(sessions_avg['Player']).sum()\n",
    "sessions_avg.drop('Player', 1, inplace=True)\n",
    "\n",
    "# Divide results in sessions average by sum weight\n",
    "hands_sum_weights = np.array(sessions_sum['Hands'])\n",
    "sessions_avg = np.divide(sessions_avg, hands_sum_weights[:, None])\n",
    "\n",
    "# Create cross-section of players over sample\n",
    "players = sessions_avg.drop(sessions_avg.columns, 1)\n",
    "players['Sessions'] = sessions_sum['Sessions']\n",
    "players['Minutes tot'] = sessions_sum['Minutes']\n",
    "players['Minutes avg'] = sessions_avg['Minutes']\n",
    "players['Hands tot'] = sessions_sum['Hands']\n",
    "players['Hands avg'] = sessions_avg['Hands']\n",
    "# Winnings with RB\n",
    "# 0.4 is the rakeback maximum on pokerstars at the time\n",
    "# This is the most conservative way to estimate \n",
    "# since we can't kow what RB tier the player was on\n",
    "players['Winnings'] = sessions_sum['My C Won'] + 0.4*sessions_sum['My C Rake Share']\n",
    "players['My C Won tot'] = sessions_sum['My C Won']\n",
    "players['My C Won avg'] = sessions_avg['My C Won']\n",
    "players['My C StdDev avg'] = sessions_avg['My C StdDev']\n",
    "players['My C Rake Share tot'] = sessions_sum['My C Rake Share']\n",
    "players['My C Rake Share avg'] = sessions_avg['My C Rake Share']\n",
    "players['All-In Adj BB tot'] = sessions_sum['All-In Adj BB']\n",
    "players['All-In Adj BB avg'] = sessions_avg['All-In Adj BB']\n",
    "players['BB/100 tot'] = sessions_sum['BB/100']\n",
    "players['BB/100 avg'] = sessions_avg['BB/100']\n",
    "players['StdDev(BB/100) tot'] = sessions_sum['StdDev(BB/100)']\n",
    "players['StdDev(BB/100) avg'] = sessions_avg['StdDev(BB/100)']\n",
    "for col_name in ['Fold BB v SB', 'VPIP',\n",
    "                 'CBet F', '3Bet PF', 'WWSF', 'WTSD %', 'Total AF',\n",
    "                 'Donk F', 'Att To Steal']:\n",
    "    players[col_name] = sessions_avg[col_name]\n",
    "players.fillna(0, inplace=True)"
   ]
  },
  {
   "cell_type": "markdown",
   "metadata": {},
   "source": [
    "**Clustering**"
   ]
  },
  {
   "cell_type": "code",
   "execution_count": 7,
   "metadata": {},
   "outputs": [],
   "source": [
    "clustering_cols = [\n",
    "'Sessions', 'Minutes tot', 'Minutes avg', 'Hands tot', 'Hands avg',\n",
    "'Winnings', 'My C Won tot', 'My C Won avg', 'My C StdDev avg',\n",
    "'My C Rake Share tot', 'My C Rake Share avg', 'All-In Adj BB tot',\n",
    "'All-In Adj BB avg', 'BB/100 tot', 'BB/100 avg', 'StdDev(BB/100) tot',\n",
    "'StdDev(BB/100) avg', 'Fold BB v SB', 'VPIP', 'CBet F', '3Bet PF',\n",
    "'WWSF', 'WTSD %', 'Total AF', 'Donk F', 'Att To Steal'\n",
    "]\n",
    "# Normalize data for clustering\n",
    "# Non-normalized data will screw up the metric space calculations\n",
    "# Because different dimensions will be scaled differently\n",
    "cluster_data = players[clustering_cols].copy()\n",
    "# Normalize data\n",
    "for col_ in clustering_cols:\n",
    "    cluster_data[col_] = (cluster_data[col_] - cluster_data[col_].mean()\n",
    "                          ) / cluster_data[col_].std()"
   ]
  },
  {
   "cell_type": "code",
   "execution_count": 8,
   "metadata": {},
   "outputs": [],
   "source": [
    "k_means = cluster.KMeans(init='k-means++', n_clusters=2, n_init=20).fit(cluster_data)\n",
    "players['kmeans'] = k_means.labels_\n",
    "k_means3 = cluster.KMeans(init='k-means++', n_clusters=3, n_init=20).fit(cluster_data)\n",
    "players['kmeans3'] = k_means3.labels_"
   ]
  },
  {
   "cell_type": "code",
   "execution_count": 9,
   "metadata": {},
   "outputs": [],
   "source": [
    "agglo = cluster.AgglomerativeClustering(n_clusters=2).fit(cluster_data)\n",
    "players['agglo'] = agglo.labels_\n",
    "agglo3 = cluster.AgglomerativeClustering(n_clusters=3).fit(cluster_data)\n",
    "players['agglo3'] = agglo3.labels_"
   ]
  },
  {
   "cell_type": "markdown",
   "metadata": {},
   "source": [
    "TODO: add DBScan and HDBScan for validation\n",
    "\n",
    "**T-statistic clustering**"
   ]
  },
  {
   "cell_type": "code",
   "execution_count": 10,
   "metadata": {},
   "outputs": [],
   "source": [
    "# T statistic on if player is an AIEV winner\n",
    "# Equivalent pokertracker SQL code is\n",
    "# (amt_expected_bb_won)/(sqrt((cnt_hands / 100)*(val_stddev_bb)*(val_stddev_bb)))\n",
    "players['t stat won'] = (players['All-In Adj BB tot'] / \n",
    "                           np.sqrt(players['Hands tot'] / \n",
    "                            (100 * players['StdDev(BB/100) avg']**2)\n",
    "                           ))\n",
    "# Don't need to divide hands by 100 here since stddev is not a bb/100 measure\n",
    "players['t stat won C'] = (players['Winnings'] / \n",
    "                           np.sqrt(players['Hands tot'] * \n",
    "                           (players['My C StdDev avg']**2)\n",
    "                           ))\n",
    "# t statistic on prob of being a winner\n",
    "# Added restriction of having played at least x minutes\n",
    "players['is winner'] = ((players['Minutes tot'] > 3600) & (players['t stat won'] > 1.645))\n",
    "players['is winner C'] = ((players['Minutes tot'] > 3600) & (players['t stat won C'] > 1.645))"
   ]
  },
  {
   "cell_type": "markdown",
   "metadata": {},
   "source": [
    "**Plot Clusters**"
   ]
  },
  {
   "cell_type": "code",
   "execution_count": 11,
   "metadata": {},
   "outputs": [
    {
     "data": {
      "image/png": "[encoded data removed]",
      "text/plain": [
       "<matplotlib.figure.Figure at 0x1aed06b7cc0>"
      ]
     },
     "metadata": {},
     "output_type": "display_data"
    },
    {
     "name": "stdout",
     "output_type": "stream",
     "text": [
      "Total Labeled:  86 \n",
      "Total players:  12092\n"
     ]
    }
   ],
   "source": [
    "# One of ['is winner', 'kmeans', 'agglo', \n",
    "#         'kmeans3', 'agglo3', 'is winner C']\n",
    "# eg. the custering columns added above\n",
    "to_plot = \"agglo\"\n",
    "# ScatterPlot of hands played vs $ won total\n",
    "xsize=15\n",
    "ysize=8\n",
    "fig, ax1 = plt.subplots(figsize=(xsize, ysize))\n",
    "ax1.set_ylabel('total $ won by player (with rakeback)', size=15)\n",
    "ax1.set_xlabel('total hands played', size=15)\n",
    "scat = plt.scatter(players['Hands tot'], players['Winnings'], c=1 - players[to_plot])\n",
    "plt.show()\n",
    "print(\"Total Labeled: \", (players[to_plot] == 1).sum(), \n",
    "      \"\\nTotal players: \", len(players))"
   ]
  },
  {
   "cell_type": "markdown",
   "metadata": {},
   "source": [
    "TODO\n",
    "\n",
    "TODO\n",
    "\n",
    "TODO\n",
    "\n",
    "**Check clustering agreement**\n",
    "\n",
    "**Output Plots To Folder**"
   ]
  },
  {
   "cell_type": "code",
   "execution_count": null,
   "metadata": {},
   "outputs": [],
   "source": []
  },
  {
   "cell_type": "code",
   "execution_count": null,
   "metadata": {},
   "outputs": [],
   "source": []
  },
  {
   "cell_type": "code",
   "execution_count": null,
   "metadata": {},
   "outputs": [],
   "source": []
  },
  {
   "cell_type": "markdown",
   "metadata": {},
   "source": [
    "**Pass results off to next section**"
   ]
  },
  {
   "cell_type": "code",
   "execution_count": 12,
   "metadata": {},
   "outputs": [],
   "source": [
    "k_means_good = players[players['kmeans'] == 1]\n",
    "k_means_bad = players[players['kmeans'] != 1]\n",
    "agglo_good = players[players['agglo'] == 1] # Verify this is always the same\n",
    "agglo_bad = players[players['agglo'] != 1]\n",
    "t_C_good = players[players['is winner C'] == 1]\n",
    "t_C_bad = players[players['is winner C'] != 1]\n",
    "t_good = players[players['is winner'] == 1]\n",
    "t_bad = players[players['is winner'] != 1]\n",
    "\n",
    "sessions_new = sessions.copy()\n",
    "agglo_names = players[players['agglo'] == 1].index\n",
    "k_means_names = players[players['kmeans'] == 1].index\n",
    "t_C_names = players[players['is winner C'] == 1].index\n",
    "t_names = players[players['is winner'] == 1].index\n",
    "\n",
    "sessions_new['agglo'] = (1 - sessions_new['Player'].isin(agglo_names))\n",
    "sessions_new['kmeans'] = (sessions_new['Player'].isin(k_means_names)).astype(int)\n",
    "sessions_new['t_C_cluster'] = (sessions_new['Player'].isin(t_C_names)).astype(int)\n",
    "sessions_new['t_cluster'] = (sessions_new['Player'].isin(t_names)).astype(int)\n",
    "sessions_new['before/during'] = (sessions_new['Player'].isin(players_before)).astype(int)\n",
    "sessions_new['during/after'] = (sessions_new['Player'].isin(players_after)).astype(int)\n",
    "\n",
    "sessions_new['agglo opp'] = (1 - sessions_new['Opponent'].isin(agglo_names))\n",
    "sessions_new['kmeans opp'] = (sessions_new['Opponent'].isin(k_means_names)).astype(int)\n",
    "sessions_new['t_C_cluster opp'] = (sessions_new['Opponent'].isin(t_C_names)).astype(int)\n",
    "sessions_new['t_cluster opp'] = (sessions_new['Opponent'].isin(t_names)).astype(int)\n",
    "sessions_new['before/during opp'] = (sessions_new['Opponent'].isin(players_before)).astype(int)\n",
    "sessions_new['during/after opp'] = (sessions_new['Opponent'].isin(players_after)).astype(int)"
   ]
  },
  {
   "cell_type": "code",
   "execution_count": 13,
   "metadata": {},
   "outputs": [],
   "source": [
    "cluster_output_name = output_folder + 'opponents_new.csv'\n",
    "sessions_new.to_csv(cluster_output_name, encoding='utf8', index=False)\n",
    "# clean up between logically separated sections\n",
    "sessions = None\n",
    "sessions_new = None"
   ]
  },
  {
   "cell_type": "markdown",
   "metadata": {},
   "source": [
    "# Section x + 1: Regressions"
   ]
  },
  {
   "cell_type": "markdown",
   "metadata": {},
   "source": [
    "**Read and clean data**\n",
    "\n",
    "This data is all hands played on each hour on the site restricted to subsets where either a player played both before and during shock or during and after."
   ]
  },
  {
   "cell_type": "code",
   "execution_count": 14,
   "metadata": {},
   "outputs": [],
   "source": [
    "# Sample on ephemeral players only\n",
    "#sessions = pd.read_csv(output_folder + 'suckers.csv')\n",
    "# Regular players\n",
    "#sessions = pd.read_csv(output_folder + 'sessions_prepared.csv')\n",
    "# Full Sample\n",
    "sessions = pd.read_csv(cluster_output_name)\n",
    "\n",
    "sessions = sessions.drop(sessions.loc[:, 'Time^2':'logminutes'], 1)\n",
    "sessions['Session Start'] = pd.to_datetime(sessions['Session Start'])\n",
    "\n",
    "sessions['wage'] = (sessions['My C Won'] / sessions['Minutes']) * 60\n",
    "sessions['BB call EV'] = (sessions['BB vs SB call won (bb)']/sessions['BB vs SB call cnt'])\n",
    "sessions['BB 3b EV'] = (sessions['won when 3bet pre']\n",
    "                        /sessions['BB vs SB 3b cnt']\n",
    "                       ).replace([np.inf, -np.inf], np.nan\n",
    "                       ).fillna(0.0)\n",
    "sessions['BB continue EV'] =((sessions['BB vs SB call won (bb)'] \n",
    "                               + sessions['won when 3bet pre']\n",
    "                            )/(sessions['BB vs SB 3b cnt'] \n",
    "                               + sessions['BB vs SB call cnt'])\n",
    "                            ).replace([np.inf, -np.inf], np.nan\n",
    "                            ).fillna(0.0)"
   ]
  },
  {
   "cell_type": "code",
   "execution_count": 15,
   "metadata": {},
   "outputs": [],
   "source": [
    "#\n",
    "# Hands/minutes/sessions since treat\n",
    "#\n",
    "# set subsample!\n",
    "#\n",
    "sessions = sessions[sessions['ephemeral'] != 1]\n",
    "sessions = sessions[sessions['k means'] == 0]\n",
    "#sessions = sessions[sessions['BB vs SB call cnt'] > 0]\n",
    "#\n",
    "#\n",
    "#panel = sessions.set_index(['Session Start', 'Player'])\n",
    "\n",
    "#daily_sessions = sessions.groupby(sessions.set_index('Session Start').index.date).mean()\n",
    "#plt.plot(daily_sessions['My C Won'])"
   ]
  },
  {
   "cell_type": "code",
   "execution_count": 16,
   "metadata": {},
   "outputs": [],
   "source": [
    "hourly = sessions.copy(deep=True)\n",
    "hourly = hourly.drop(sessions.loc[:, 'Fold BB v SB':'during/after'], 1)\\\n",
    "                 .drop(sessions.loc[:, 'Time':'Time'], 1)\n",
    "\n",
    "daily = sessions.copy(deep=True)\n",
    "daily = daily.drop(sessions.loc[:, 'Fold BB v SB':'during/after'], 1)\\\n",
    "                 .drop(sessions.loc[:,'Midnight':'Time'], 1) \n",
    "\n",
    "hourly = hourly.set_index('Session Start')\n",
    "daily = daily.set_index('Session Start')\n",
    "daily_avg = daily.groupby(pd.Grouper(freq='1440Min')).mean()\n",
    "hourly_avg = hourly.groupby(pd.Grouper(freq='60Min')).mean()\n",
    "daily = daily.groupby(pd.Grouper(freq='1440Min')).sum()\n",
    "hourly = hourly.groupby(pd.Grouper(freq='60Min')).sum()\n",
    "hourly.loc[:, 'Treat':] = hourly_avg.loc[:, 'Treat':]\n",
    "daily.loc[:, 'Treat':] = daily_avg.loc[:, 'Treat':]\n",
    "hourly['wage'] = hourly_avg['wage']\n",
    "daily['wage'] = daily_avg['wage']\n",
    "hourly['Minutes avg'] = hourly_avg['Minutes']\n",
    "daily['Minutes avg'] = daily_avg['Minutes']\n",
    "hourly['Hands avg'] = hourly_avg['Hands']\n",
    "daily['Hands avg'] = daily_avg['Hands']\n",
    "hourly['My C Won avg'] = hourly_avg['My C Won']\n",
    "daily['My C Won avg'] = daily_avg['My C Won']\n",
    "\n",
    "hourly = hourly.fillna(0)\n",
    "daily = daily.fillna(0)"
   ]
  },
  {
   "cell_type": "code",
   "execution_count": 17,
   "metadata": {},
   "outputs": [],
   "source": [
    "# Clean Sessions dataset\n",
    "sessions = sessions.sort_values(by='Session Start')\n",
    "sessions = sessions.reset_index()\n",
    "sessions = sessions.drop('index', 1)"
   ]
  },
  {
   "cell_type": "code",
   "execution_count": 18,
   "metadata": {},
   "outputs": [],
   "source": [
    "# New dataset from grouped sessions average daily\n",
    "daily_sessions = sessions.copy()\n",
    "daily_sessions2 = sessions.copy()\n",
    "daily_sessions = daily_sessions.groupby(daily_sessions.set_index('Session Start').index.date).mean()\n",
    "daily_sessions2 = daily_sessions2.groupby(daily_sessions2.set_index('Session Start').index.date).median()\n",
    "daily_sessions = daily_sessions.loc[:, :'Sunday']\n",
    "daily_sessions['Minutes_median'] = daily_sessions2['Minutes']"
   ]
  },
  {
   "cell_type": "markdown",
   "metadata": {},
   "source": [
    "**OLS on hands and rake aggregates**\n",
    "\n",
    "- Model on constant + dummies to test for intercept change"
   ]
  },
  {
   "cell_type": "code",
   "execution_count": 19,
   "metadata": {},
   "outputs": [],
   "source": [
    "ols_est = sm.OLS(\n",
    "        hourly['BB call EV'], \n",
    "        sm.add_constant(hourly.loc[:, 'Treat':'11PM']#.drop('After', 1)\n",
    "    )).fit(cov_type='HC1')\n",
    "#ols_est.summary()"
   ]
  },
  {
   "cell_type": "code",
   "execution_count": 20,
   "metadata": {},
   "outputs": [],
   "source": [
    "# Output regressions\n",
    "\n",
    "# for endog_name in ['My C Won', 'Hands', 'Hands avg', 'Minutes', 'Minutes avg', 'Sessions', 'My C Won avg', 'wage']:\n",
    "#     ols_est = sm.OLS(\n",
    "#         hourly[endog_name], \n",
    "#         sm.add_constant(hourly.loc[:, 'Treat':'11PM']#.drop('After', 1)\n",
    "#     )).fit(cov_type='HC1')\n",
    "    \n",
    "#     ols_summary = ols_est.summary()\n",
    "#     text_file = open(str(output_folder + \"/hourly \" + endog_name + \" k means.txt\"), \"w\")\n",
    "#     text_file.write(ols_summary.as_text())\n",
    "#     text_file.close()"
   ]
  },
  {
   "cell_type": "code",
   "execution_count": 21,
   "metadata": {},
   "outputs": [],
   "source": [
    "#\n",
    "# OLS with \"Learning\"\n",
    "#\n",
    "X3 = hourly.loc[:, 'After':'11PM']\n",
    "X3 = X3.reset_index().drop('Session Start', 1)\n",
    "# First cutoff @ 1453\n",
    "X3['Week 1'] = ((X3.index >= 1453) & (X3.index < 1620)).astype(int)\n",
    "X3['Week 2'] = ((X3.index >= 1620) & (X3.index < 1787)).astype(int)\n",
    "X3['Week 3'] = ((X3.index >= 1787) & (X3.index < 1954)).astype(int)\n",
    "X3['Week 4'] = ((X3.index >= 1954) & (X3.index < 2121)).astype(int)\n",
    "X3['Week 5'] = ((X3.index >= 2121) & (X3.index < 2288)).astype(int)\n",
    "X3['Week 6'] = ((X3.index >= 2288) & (X3.index < 2455)).astype(int)\n",
    "X3['Week 7'] = ((X3.index >= 2455) & (X3.index < 2622)).astype(int)\n",
    "X3['Week 8'] = ((X3.index >= 2622) & (X3.index < 2789)).astype(int)\n",
    "X3['Week 9'] = ((X3.index >= 2789) & (X3.index < 2959)).astype(int)\n",
    "# Second cutoff @ 2959\n",
    "X3 = sm.add_constant(X3)"
   ]
  },
  {
   "cell_type": "code",
   "execution_count": 22,
   "metadata": {},
   "outputs": [],
   "source": [
    "y_learn = hourly['BB call EV'].reset_index()['BB call EV']\n",
    "ols_learn = sm.OLS(y_learn, X3).fit(cov_type='HC1')\n",
    "#ols_learn.summary()"
   ]
  },
  {
   "cell_type": "code",
   "execution_count": 23,
   "metadata": {},
   "outputs": [],
   "source": [
    "# Output to files\n",
    "# for endog_name in ['My C Won', 'Hands', 'Hands avg', 'Minutes', 'Minutes avg', 'Sessions', 'My C Won avg', 'wage']:\n",
    "#     y_learn = hourly[endog_name].reset_index()[endog_name]\n",
    "#     ols_learn = sm.OLS(y_learn, X3).fit(cov_type='HC1')\n",
    "    \n",
    "#     ols_summary = ols_learn.summary()\n",
    "#     text_file = open(str(output_folder + \"/Hourly \" + endog_name + \" k means new -- Learn.txt\"), \"w\")\n",
    "#     text_file.write(ols_summary.as_text())\n",
    "#     text_file.close()"
   ]
  },
  {
   "cell_type": "markdown",
   "metadata": {},
   "source": [
    "# OLS on sessions panel (Fixed Effects)"
   ]
  },
  {
   "cell_type": "code",
   "execution_count": 24,
   "metadata": {},
   "outputs": [],
   "source": [
    "# FE_panel = sm.add_constant(\n",
    "#           sessions.loc[:, 'Treat':].drop('wage', 1).drop('Time', 1)\\\n",
    "#                   .join(pd.get_dummies(sessions['Player']))\n",
    "#             ).astype(float)\n",
    "\n",
    "#sessions = sessions[sessions['BB vs SB call cnt'] > 0]\n",
    "\n",
    "FE_panel = pd.DataFrame(sessions['Player'])\\\n",
    "           .join(sessions['Opponent'])\\\n",
    "           .join(sessions.loc[:, 'Treat':'11PM'].astype(float))\n",
    "\n",
    "\n",
    "for col in FE_panel.columns[2:]:\n",
    "    FE_panel[col] -= FE_panel.groupby('Player')\\\n",
    "                             [col].transform('mean')\n",
    "    FE_panel[col] -= FE_panel.groupby('Opponent')\\\n",
    "                             [col].transform('mean') \n",
    "        \n",
    "        \n",
    "FE_panel = sm.add_constant(FE_panel.drop('Player', 1)\\\n",
    "                              .drop('Opponent', 1))\n",
    "\n",
    "FE_panel = FE_panel.loc[:, :'Treat'].join(\n",
    "                    pd.get_dummies(sessions['kmeans opp']).iloc[:, 1])\\\n",
    "                    .join(sessions['ephemeral opp'].astype(float))\n",
    "\n",
    "#FE_panel['ephemeral opp x treat'] = FE_panel['ephemeral opp'] * FE_panel['Treat']\n",
    "#FE_panel['k means 0 x treat'] = (1 - sessions['k means opp']) * FE_panel['Treat']\n",
    "#FE_panel['k means 1 x treat'] = sessions['k means opp'] * FE_panel['Treat']\n",
    "   \n",
    "for endog_name in [#'Hands', 'My C Won', 'Minutes',\n",
    "                   #'Sessions', 'wage', \n",
    "                   #'VPIP', 'CBet F', 'Total AF', '3Bet PF',\n",
    "                   #'BB call EV',\n",
    "                   'BB continue EV',\n",
    "                   #'Fold BB v SB'\n",
    "    ]:\n",
    "    sessions_ols = sm.OLS(\n",
    "        sessions[endog_name].fillna(0), \n",
    "        FE_panel\n",
    "        ).fit(cov_type='HC1')   #NB: drop time if you want to\n",
    "\n",
    "    ols_summary = sessions_ols.summary()\n",
    "    text_file = open(str(output_folder + endog_name + \".txt\"), \"w\")\n",
    "    text_file.write(ols_summary.as_text())\n",
    "    text_file.close()"
   ]
  },
  {
   "cell_type": "code",
   "execution_count": null,
   "metadata": {},
   "outputs": [],
   "source": []
  }
 ],
 "metadata": {
  "kernelspec": {
   "display_name": "Python 3",
   "language": "python",
   "name": "python3"
  },
  "language_info": {
   "codemirror_mode": {
    "name": "ipython",
    "version": 3
   },
   "file_extension": ".py",
   "mimetype": "text/x-python",
   "name": "python",
   "nbconvert_exporter": "python",
   "pygments_lexer": "ipython3",
   "version": "3.6.4"
  }
 },
 "nbformat": 4,
 "nbformat_minor": 2
}
