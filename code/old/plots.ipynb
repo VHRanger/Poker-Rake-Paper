{
 "cells": [
  {
   "cell_type": "code",
   "execution_count": 1,
   "metadata": {},
   "outputs": [
    {
     "name": "stderr",
     "output_type": "stream",
     "text": [
      "C:\\ProgramData\\Anaconda3\\lib\\site-packages\\statsmodels\\compat\\pandas.py:56: FutureWarning: The pandas.core.datetools module is deprecated and will be removed in a future version. Please use the pandas.tseries module instead.\n",
      "  from pandas.core import datetools\n"
     ]
    }
   ],
   "source": [
    "import matplotlib.pyplot as plt\n",
    "import numpy as np\n",
    "import pandas as pd\n",
    "import statsmodels.formula.api as smf\n",
    "import statsmodels.api as sm\n",
    "from statsmodels.tsa.stattools import adfuller\n",
    "from numba import jit\n",
    "import datetime"
   ]
  },
  {
   "cell_type": "code",
   "execution_count": 3,
   "metadata": {},
   "outputs": [],
   "source": [
    "sessions = pd.read_csv('../data/opponents.csv')\n",
    "#ephemerals = pd.read_csv('c:/users/matt/desktop/poker paper/suckers.csv')\n",
    "\n",
    "sessions = sessions.drop('Unnamed: 0', 1).drop(sessions.loc[:, 'Time^2':], 1)\n",
    "sessions['Session Start'] = pd.to_datetime(sessions['Session Start'])\n",
    "\n",
    "#ephemerals = ephemerals.drop('Unnamed: 0', 1).drop(ephemerals.loc[:, 'Time^2':], 1)\n",
    "#ephemerals['Session Start'] = pd.to_datetime(ephemerals['Session Start'])\n",
    "\n",
    "#ephemerals['wage'] = (ephemerals['My C Won']/ephemerals['Minutes'])*60\n",
    "sessions['wage'] = (sessions['My C Won']/sessions['Minutes'])*60\n",
    "\n",
    "sessions['BB EV'] = (sessions['BB vs SB call won (bb)']/sessions['BB vs SB call cnt']).fillna(0)"
   ]
  },
  {
   "cell_type": "code",
   "execution_count": 4,
   "metadata": {
    "collapsed": true,
    "scrolled": true
   },
   "outputs": [],
   "source": [
    "ephemerals  = sessions[sessions['ephemeral'] == 1]\n",
    "\n",
    "sessions = sessions[sessions['ephemeral'] != 1]"
   ]
  },
  {
   "cell_type": "code",
   "execution_count": 5,
   "metadata": {
    "collapsed": true
   },
   "outputs": [],
   "source": [
    "sessionskmc = sessions[sessions['k means'] == 1]\n",
    "sessionskmcNOT = sessions[sessions['k means'] != 1]\n",
    "\n",
    "sessionstc = sessions[sessions['t_cluster'] == 1]\n",
    "sessionstcNOT = sessions[sessions['t_cluster'] != 1]\n",
    "\n",
    "sessionsagglo = sessions[sessions['agglo'] == 1]\n",
    "sessionsaggloNOT = sessions[sessions['agglo'] != 1]"
   ]
  },
  {
   "cell_type": "code",
   "execution_count": 6,
   "metadata": {
    "collapsed": true
   },
   "outputs": [],
   "source": [
    "def make_hourly_daily(sess):\n",
    "    hourly = sess.copy(deep=True)\n",
    "    hourly = hourly.drop(sess.loc[:, 'Total AF':'during/after'], 1)\\\n",
    "                     .drop(sess.loc[:, 'Time':'Time'], 1)#\\\n",
    "                    #.drop(sess.loc[:, 'Fold BB v SB':'WTSD %'], 1)\\\n",
    "\n",
    "    daily = sess.copy(deep=True)\n",
    "    daily = daily.drop(sess.loc[:, 'Total AF':'during/after'], 1)\\\n",
    "                     .drop(sess.loc[:, 'Time':'Time'], 1)#\\\n",
    "                    #.drop(sess.loc[:, 'Fold BB v SB':'WTSD %'], 1)\\\n",
    "\n",
    "    hourly = hourly.set_index('Session Start')\n",
    "    daily = daily.set_index('Session Start')\n",
    "\n",
    "    daily_avg = daily.groupby(pd.TimeGrouper('1440Min')).mean()\n",
    "    hourly_avg = hourly.groupby(pd.TimeGrouper('60Min')).mean()\n",
    "    daily = daily.groupby(pd.TimeGrouper('1440Min')).sum()\n",
    "    hourly = hourly.groupby(pd.TimeGrouper('60Min')).sum()\n",
    "\n",
    "    hourly.loc[:, 'Treat':'11PM'] = hourly_avg.loc[:, 'Treat':]\n",
    "    daily.loc[:, 'Treat':'11PM'] = daily_avg.loc[:, 'Treat':]\n",
    "\n",
    "    hourly['wage'] = hourly_avg['wage']\n",
    "    daily['wage'] = daily_avg['wage']\n",
    "    hourly['Minutes avg'] = hourly_avg['Minutes']\n",
    "    daily['Minutes avg'] = daily_avg['Minutes']\n",
    "    hourly['Hands avg'] = hourly_avg['Hands']\n",
    "    daily['Hands avg'] = daily_avg['Hands']\n",
    "    hourly['My C Won avg'] = hourly_avg['My C Won']\n",
    "    daily['My C Won avg'] = daily_avg['My C Won']\n",
    "    hourly['My C Rake Share avg'] = hourly_avg['My C Rake Share']\n",
    "    daily['My C Rake Share avg'] = daily_avg['My C Rake Share']\n",
    "    \n",
    "    daily['BB EV'] = (daily['BB vs SB call won (bb)']/daily['BB vs SB call cnt']).fillna(0)\n",
    "    hourly['BB EV'] = (hourly['BB vs SB call won (bb)']/hourly['BB vs SB call cnt']).fillna(0)\n",
    "    \n",
    "    hourly = hourly.fillna(0)\n",
    "    daily = daily.fillna(0)\n",
    "    \n",
    "    return hourly, daily"
   ]
  },
  {
   "cell_type": "code",
   "execution_count": 7,
   "metadata": {
    "collapsed": true
   },
   "outputs": [],
   "source": [
    "hourly, daily = make_hourly_daily(sessions)\n",
    "hourlykmc, dailykmc = make_hourly_daily(sessionskmc)\n",
    "hourlykmcnot, dailykmcnot = make_hourly_daily(sessionskmcNOT)\n",
    "hourlytc, dailytc = make_hourly_daily(sessionstc)\n",
    "hourlytcnot, dailytcnot = make_hourly_daily(sessionstcNOT)\n",
    "hourlyagglo, dailyagglo = make_hourly_daily(sessionsagglo)\n",
    "hourlyagglonot, dailyagglonot = make_hourly_daily(sessionsaggloNOT)"
   ]
  },
  {
   "cell_type": "code",
   "execution_count": 8,
   "metadata": {
    "collapsed": true
   },
   "outputs": [],
   "source": [
    "hourlyeph, dailyeph = make_hourly_daily(ephemerals)"
   ]
  },
  {
   "cell_type": "code",
   "execution_count": 19,
   "metadata": {
    "scrolled": false
   },
   "outputs": [
    {
     "data": {
      "image/png": "[encoded data removed]",
      "text/plain": [
       "<matplotlib.figure.Figure at 0x25b8f1fba58>"
      ]
     },
     "metadata": {},
     "output_type": "display_data"
    }
   ],
   "source": [
    "xsize=15\n",
    "ysize=8\n",
    "fig, ax1 = plt.subplots(figsize=(xsize, ysize))\n",
    "\n",
    "data = [daily[daily['Treat'] == 0]['wage'], \n",
    "        daily[daily['Treat'] != 0]['wage'],\n",
    "        dailyeph[dailyeph['Treat'] == 0]['wage'],\n",
    "        dailyeph[dailyeph['Treat'] != 0]['wage'],\n",
    "        dailykmc[dailykmc['Treat'] == 0]['wage'],\n",
    "        dailykmc[dailykmc['Treat'] != 0]['wage'],\n",
    "        dailykmcnot[dailykmcnot['Treat'] == 0]['wage'],\n",
    "        dailykmcnot[dailykmcnot['Treat'] != 0]['wage'],\n",
    "        dailytc[dailytc['Treat'] == 0]['wage'],\n",
    "        dailytc[dailytc['Treat'] != 0]['wage'],\n",
    "        dailytcnot[dailytcnot['Treat'] == 0]['wage'],\n",
    "        dailytcnot[dailytcnot['Treat'] != 0]['wage'],\n",
    "        #dailyagglo[dailyagglo['Treat'] == 0]['wage'],\n",
    "        #dailyagglo[dailyagglo['Treat'] != 0]['wage'],\n",
    "        #dailyagglonot[dailyagglonot['Treat'] == 0]['wage'],\n",
    "        #dailyagglonot[dailyagglonot['Treat'] != 0]['wage']\n",
    "       ]\n",
    "\n",
    "bp = plt.boxplot(data)\n",
    "\n",
    "ax1.set_ylabel('$/hr by group in USD', size=13)\n",
    "ax1.set_xticklabels(['Treatment Group', 'Ephemeral players', 'k-means Skilled', 'k-means UnSkilled',\n",
    "                     't stat Skilled', 't stat UnSkilled', 'agglo skilled', 'agglo unskilled'], size=13)\n",
    "ax1.set_xticks([1.5, 3.5, 5.5, 7.5, 9.5, 11.5])\n",
    "\n",
    "boxColors = ['darkkhaki', 'royalblue']\n",
    "medians = list(range(len(data)))\n",
    "for i in range(len(data)):\n",
    "    box = bp['boxes'][i]\n",
    "    boxX = []\n",
    "    boxY = []\n",
    "    for j in range(5):\n",
    "        boxX.append(box.get_xdata()[j])\n",
    "        boxY.append(box.get_ydata()[j])\n",
    "    boxCoords = list(zip(boxX, boxY))\n",
    "    # Alternate between Dark Khaki and Royal Blue\n",
    "    k = i % 2\n",
    "    boxPolygon = plt.Polygon(boxCoords, facecolor=boxColors[k])\n",
    "    ax1.add_patch(boxPolygon)\n",
    "    # Now draw the median lines back over what we just filled in\n",
    "    med = bp['medians'][i]\n",
    "    medianX = []\n",
    "    medianY = []\n",
    "    for j in range(2):\n",
    "        medianX.append(med.get_xdata()[j])\n",
    "        medianY.append(med.get_ydata()[j])\n",
    "        plt.plot(medianX, medianY, 'k')\n",
    "        medians[i] = medianY[0]\n",
    "    # Finally, overplot the sample averages, with horizontal alignment\n",
    "    # in the center of each box\n",
    "    plt.plot([np.average(med.get_xdata())], [np.average(data[i])],\n",
    "             color='w', marker='*', markeredgecolor='k')\n",
    "    \n",
    "\n",
    "# Due to the Y-axis scale being different across samples, it can be\n",
    "# hard to compare differences in medians across the samples. Add upper\n",
    "# X-axis tick labels with the sample medians to aid in comparison\n",
    "# (just use two decimal places of precision)\n",
    "pos = np.arange(len(data)) + 1\n",
    "upperLabels = [str(np.round(s, 2)) for s in medians]\n",
    "weights = ['bold', 'semibold']\n",
    "for tick in range(len(data)):\n",
    "    k = tick % 2\n",
    "    ax1.text(pos[tick], -1150, upperLabels[tick],\n",
    "             horizontalalignment='center', size=15, weight=weights[k],\n",
    "             color=boxColors[k])\n",
    "    \n",
    "\n",
    "# Finally, add a basic legend\n",
    "plt.figtext(0.80, 0.065, 'Regular Price',\n",
    "            backgroundcolor=boxColors[0], color='black', weight='roman',\n",
    "            size='12')\n",
    "plt.figtext(0.80, 0.025, 'Increased Price',\n",
    "            backgroundcolor=boxColors[1],\n",
    "            color='white', weight='roman', size=12)\n",
    "\n",
    "plt.show()"
   ]
  },
  {
   "cell_type": "code",
   "execution_count": null,
   "metadata": {
    "collapsed": true
   },
   "outputs": [],
   "source": []
  }
 ],
 "metadata": {
  "kernelspec": {
   "display_name": "Python 3",
   "language": "python",
   "name": "python3"
  },
  "language_info": {
   "codemirror_mode": {
    "name": "ipython",
    "version": 3
   },
   "file_extension": ".py",
   "mimetype": "text/x-python",
   "name": "python",
   "nbconvert_exporter": "python",
   "pygments_lexer": "ipython3",
   "version": "3.6.4"
  }
 },
 "nbformat": 4,
 "nbformat_minor": 2
}
