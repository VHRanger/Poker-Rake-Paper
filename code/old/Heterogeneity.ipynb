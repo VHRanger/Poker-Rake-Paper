{
 "cells": [
  {
   "cell_type": "code",
   "execution_count": 1,
   "metadata": {
    "scrolled": true
   },
   "outputs": [
    {
     "name": "stderr",
     "output_type": "stream",
     "text": [
      "C:\\Program Files\\Anaconda3\\lib\\site-packages\\statsmodels\\compat\\pandas.py:56: FutureWarning: The pandas.core.datetools module is deprecated and will be removed in a future version. Please use the pandas.tseries module instead.\n",
      "  from pandas.core import datetools\n"
     ]
    }
   ],
   "source": [
    "import matplotlib.pyplot as plt\n",
    "import numpy as np\n",
    "import pandas as pd\n",
    "import statsmodels.formula.api as smf\n",
    "import statsmodels.api as sm\n",
    "from statsmodels.tsa.stattools import adfuller\n",
    "from numba import jit\n",
    "import datetime\n",
    "from sklearn import cluster\n",
    "from sklearn import mixture"
   ]
  },
  {
   "cell_type": "code",
   "execution_count": 2,
   "metadata": {
    "collapsed": true
   },
   "outputs": [],
   "source": [
    "# import data\n",
    "sessions = pd.read_csv('c:/users/matt/desktop/poker paper/opp.csv')\n",
    "\n",
    "# Clean Sessions dataset\n",
    "sessions['Session Start'] = pd.to_datetime(sessions['Session Start'])\n",
    "#sessions = sessions.drop('Unnamed: 0', axis=1)\n",
    "\n",
    "sessions['My C Won'] = sessions['My C Won'].replace(to_replace='\\$',value='', regex=True).\\\n",
    "                       replace(to_replace='\\,',value='', regex=True).astype('float')\n",
    "sessions['Won'] = sessions['Won'].replace(to_replace='\\$',value='', regex=True).\\\n",
    "                       replace(to_replace='\\,',value='', regex=True).astype('float')\n",
    "sessions['BB vs SB call won'] = sessions['BB vs SB call won'].replace(to_replace='\\$',value='', regex=True).\\\n",
    "                       replace(to_replace='\\,',value='', regex=True).astype('float')\n",
    "sessions['won when 3bet pre'] = sessions['won when 3bet pre'].replace(to_replace='\\$',value='', regex=True).\\\n",
    "                       replace(to_replace='\\,',value='', regex=True).astype('float')\n",
    "    \n",
    "sessions['Hands'] = sessions['Hands'].\\\n",
    "                       replace(to_replace='\\,',value='', regex=True).astype('float')\n",
    "\n",
    "for var_name in ['Fold BB v SB', 'VPIP', 'CBet F', '3Bet PF',\n",
    "       'StdDev(BB/100)', 'BB/100',\n",
    "       'All-In Adj BB', 'My C StdDev', 'StdDev', 'WWSF', 'WTSD %',\n",
    "       'My C Rake Share', 'Rake Share', 'Total AF', 'Donk F', 'Att To Steal']:\n",
    "    sessions[var_name] = pd.to_numeric(sessions[var_name].\\\n",
    "                                           replace('\\$','',regex=True).\\\n",
    "                                           replace(to_replace='\\,',value='', regex=True)\n",
    "                                  , errors='coerce')"
   ]
  },
  {
   "cell_type": "code",
   "execution_count": 3,
   "metadata": {
    "collapsed": true
   },
   "outputs": [],
   "source": [
    "sessions.drop('Unnamed: 0', 1)\n",
    "sessions.fillna(0.0, inplace=True)"
   ]
  },
  {
   "cell_type": "code",
   "execution_count": 4,
   "metadata": {
    "collapsed": true
   },
   "outputs": [],
   "source": [
    "before = sessions[sessions['Session Start'] < \"2014-11-03\"]\n",
    "during = sessions[sessions['Session Start'] > \"2014-11-03\"]\n",
    "during = during[during['Session Start'] < \"2015-01-06\"]\n",
    "after = sessions[sessions['Session Start'] > \"2015-01-06\"]\n",
    "\n",
    "players_before = list(set(before['Player']) & set(during['Player']))\n",
    "players_after = list(set(during['Player']) & set(after['Player']))\n",
    "players_list = list(set(players_before + players_after))\n",
    "\n",
    "sessions['ephemeral'] = ~sessions['Player'].isin(players_list)\n",
    "sessions['ephemeral opp'] = ~sessions['Opponent'].isin(players_list)"
   ]
  },
  {
   "cell_type": "markdown",
   "metadata": {},
   "source": [
    "# Labeling"
   ]
  },
  {
   "cell_type": "code",
   "execution_count": 5,
   "metadata": {
    "collapsed": true
   },
   "outputs": [],
   "source": [
    "# Create weighed averages in groups\n",
    "hands_weights = np.array(sessions['Hands'])\n",
    "tmp = sessions.drop('Session Start', 1)\\\n",
    "        .drop('Player', 1).drop('ephemeral opp', 1)\\\n",
    "        .drop('Opponent', 1)\n",
    "sessions_avg = hands_weights[:, None] * tmp\n",
    "sessions_avg['Player'] = sessions['Player']"
   ]
  },
  {
   "cell_type": "code",
   "execution_count": 6,
   "metadata": {
    "collapsed": true
   },
   "outputs": [],
   "source": [
    "# Group by player name\n",
    "sessions_sum = sessions.groupby(sessions['Player']).sum()\n",
    "sessions_avg = sessions_avg.groupby(sessions_avg['Player']).sum()\n",
    "sessions_avg.drop('Player', 1, inplace=True)\n",
    "\n",
    "# Divide results in sessions average by sum weight\n",
    "hands_sum_weights = np.array(sessions_sum['Hands'])\n",
    "sessions_avg = np.divide(sessions_avg, hands_sum_weights[:, None])\n",
    "\n",
    "# Create cross-section of players over sample\n",
    "players = sessions_avg.drop(sessions_avg.columns, 1)\n",
    "players['Sessions'] = sessions_sum['Sessions']\n",
    "players['Minutes tot'] = sessions_sum['Minutes']\n",
    "players['Minutes avg'] = sessions_avg['Minutes']\n",
    "players['Hands tot'] = sessions_sum['Hands']\n",
    "players['Hands avg'] = sessions_avg['Hands']\n",
    "\n",
    "# Winnings with RB\n",
    "players['Winnings'] = sessions_sum['My C Won'] + 0.4*sessions_sum['My C Rake Share']\n",
    "\n",
    "players['My C Won tot'] = sessions_sum['My C Won']\n",
    "players['My C Won avg'] = sessions_avg['My C Won']\n",
    "players['My C StdDev avg'] = sessions_avg['My C StdDev']\n",
    "players['My C Rake Share tot'] = sessions_sum['My C Rake Share']\n",
    "players['My C Rake Share avg'] = sessions_avg['My C Rake Share']\n",
    "players['All-In Adj BB tot'] = sessions_sum['All-In Adj BB']\n",
    "players['All-In Adj BB avg'] = sessions_avg['All-In Adj BB']\n",
    "players['BB/100 tot'] = sessions_sum['BB/100']\n",
    "players['BB/100 avg'] = sessions_avg['BB/100']\n",
    "players['StdDev(BB/100) tot'] = sessions_sum['StdDev(BB/100)']\n",
    "players['StdDev(BB/100) avg'] = sessions_avg['StdDev(BB/100)']\n",
    "\n",
    "for col_name in ['Fold BB v SB', 'VPIP',\n",
    "                 'CBet F', '3Bet PF', 'WWSF', 'WTSD %', 'Total AF',\n",
    "                 'Donk F', 'Att To Steal']:\n",
    "    players[col_name] = sessions_avg[col_name]"
   ]
  },
  {
   "cell_type": "code",
   "execution_count": 7,
   "metadata": {
    "collapsed": true
   },
   "outputs": [],
   "source": [
    "# Fill NaN values in players to 0\n",
    "players.fillna(0, inplace=True)"
   ]
  },
  {
   "cell_type": "code",
   "execution_count": 8,
   "metadata": {
    "collapsed": true
   },
   "outputs": [],
   "source": [
    "#players.sort_values(by='Minutes tot', ascending=False)"
   ]
  },
  {
   "cell_type": "markdown",
   "metadata": {},
   "source": [
    "# Cluster"
   ]
  },
  {
   "cell_type": "code",
   "execution_count": 9,
   "metadata": {
    "collapsed": true
   },
   "outputs": [],
   "source": [
    "k_means = cluster.KMeans(init='k-means++', n_clusters=2, n_init=10).fit(players)\n",
    "players['k means'] = k_means.labels_\n",
    "k_means3 = cluster.KMeans(init='k-means++', n_clusters=3, n_init=10).fit(players)\n",
    "players['k means3'] = k_means3.labels_"
   ]
  },
  {
   "cell_type": "code",
   "execution_count": 10,
   "metadata": {
    "collapsed": true
   },
   "outputs": [],
   "source": [
    "agglo = cluster.AgglomerativeClustering(n_clusters=2).fit(players)\n",
    "players['agglo'] = agglo.labels_\n",
    "agglo3 = cluster.AgglomerativeClustering(n_clusters=3).fit(players)\n",
    "players['agglo3'] = agglo3.labels_"
   ]
  },
  {
   "cell_type": "code",
   "execution_count": 11,
   "metadata": {
    "collapsed": true
   },
   "outputs": [],
   "source": [
    "#gauss_mix = mixture.GaussianMixture(n_components=2).fit(players)"
   ]
  },
  {
   "cell_type": "markdown",
   "metadata": {},
   "source": [
    "** Parametric Clustering **"
   ]
  },
  {
   "cell_type": "code",
   "execution_count": 12,
   "metadata": {
    "collapsed": true
   },
   "outputs": [],
   "source": [
    "# T statistic on if player is an AIEV winner\n",
    "# (amt_expected_bb_won)/(sqrt((cnt_hands / 100)*(val_stddev_bb)*(val_stddev_bb))) \n",
    "players['t stat won'] = (players['All-In Adj BB tot'] / \n",
    "                           np.sqrt(players['Hands tot'] / 100 * \n",
    "                           (players['StdDev(BB/100) avg']**2)\n",
    "                           ))\n",
    "\n",
    "players['t stat won C'] = (players['Winnings'] / \n",
    "                           np.sqrt(players['Hands tot'] * \n",
    "                           (players['My C StdDev avg']**2)\n",
    "                           ))\n",
    "#\n",
    "# Cluster on prob of being a winner\n",
    "#\n",
    "players['is winner'] = ((players['Minutes tot'] > 3600) & (players['t stat won'] > 1.645))\n",
    "players['is winner C'] = ((players['Minutes tot'] > 3600) & (players['t stat won C'] > 1.645))"
   ]
  },
  {
   "cell_type": "markdown",
   "metadata": {},
   "source": [
    "** Plot Clusters **"
   ]
  },
  {
   "cell_type": "code",
   "execution_count": 13,
   "metadata": {
    "scrolled": false
   },
   "outputs": [
    {
     "data": {
      "image/png": "[encoded data removed]",
      "text/plain": [
       "<matplotlib.figure.Figure at 0x1a0852609e8>"
      ]
     },
     "metadata": {},
     "output_type": "display_data"
    }
   ],
   "source": [
    "# ScatterPlot of hands played vs $ won total\n",
    "xsize=15\n",
    "ysize=8\n",
    "fig, ax1 = plt.subplots(figsize=(xsize, ysize))\n",
    "ax1.set_ylabel('total $ won by player', size=15)\n",
    "ax1.set_xlabel('total hands played', size=15)\n",
    "scat = plt.scatter(players['Hands tot'], players['Winnings'], c=1 - players['k means'])\n",
    "\n",
    "plt.show()"
   ]
  },
  {
   "cell_type": "code",
   "execution_count": 14,
   "metadata": {
    "scrolled": true
   },
   "outputs": [
    {
     "data": {
      "text/plain": [
       "12019"
      ]
     },
     "execution_count": 14,
     "metadata": {},
     "output_type": "execute_result"
    }
   ],
   "source": [
    "np.sum(1- players['k means'])"
   ]
  },
  {
   "cell_type": "code",
   "execution_count": 16,
   "metadata": {
    "collapsed": true
   },
   "outputs": [],
   "source": [
    "k_means_good = players[players['k means'] == 1]\n",
    "k_means_bad = players[players['k means'] != 1]\n",
    "agglo_good = players[players['agglo'] == 1] # Verify this is always the same\n",
    "agglo_bad = players[players['agglo'] != 1]\n",
    "t_C_good = players[players['is winner C'] == 1]\n",
    "t_C_bad = players[players['is winner C'] != 1]\n",
    "t_good = players[players['is winner'] == 1]\n",
    "t_bad = players[players['is winner'] != 1]"
   ]
  },
  {
   "cell_type": "markdown",
   "metadata": {},
   "source": [
    "# Output to data"
   ]
  },
  {
   "cell_type": "code",
   "execution_count": 31,
   "metadata": {
    "collapsed": true
   },
   "outputs": [],
   "source": [
    "sessions_new = sessions\n",
    "agglo_names = players[players['agglo'] == 1].index\n",
    "k_means_names = players[players['k means'] == 1].index\n",
    "t_C_names = players[players['is winner C'] == 1].index\n",
    "t_names = players[players['is winner'] == 1].index\n",
    "\n",
    "sessions_new['agglo'] = (1 - sessions_new['Player'].isin(agglo_names))\n",
    "sessions_new['k means'] = (sessions_new['Player'].isin(k_means_names)).astype(int)\n",
    "sessions_new['t_C_cluster'] = (sessions_new['Player'].isin(t_C_names)).astype(int)\n",
    "sessions_new['t_cluster'] = (sessions_new['Player'].isin(t_names)).astype(int)\n",
    "sessions_new['before/during'] = (sessions_new['Player'].isin(players_before)).astype(int)\n",
    "sessions_new['during/after'] = (sessions_new['Player'].isin(players_after)).astype(int)\n",
    "\n",
    "sessions_new['agglo opp'] = (1 - sessions_new['Opponent'].isin(agglo_names))\n",
    "sessions_new['k means opp'] = (sessions_new['Opponent'].isin(k_means_names)).astype(int)\n",
    "sessions_new['t_C_cluster opp'] = (sessions_new['Opponent'].isin(t_C_names)).astype(int)\n",
    "sessions_new['t_cluster opp'] = (sessions_new['Opponent'].isin(t_names)).astype(int)\n",
    "sessions_new['before/during opp'] = (sessions_new['Opponent'].isin(players_before)).astype(int)\n",
    "sessions_new['during/after opp'] = (sessions_new['Opponent'].isin(players_after)).astype(int)"
   ]
  },
  {
   "cell_type": "code",
   "execution_count": 34,
   "metadata": {
    "collapsed": true
   },
   "outputs": [],
   "source": [
    "sessions_new.to_csv('c:/users/matt/desktop/opponents.csv', encoding='utf8')"
   ]
  },
  {
   "cell_type": "code",
   "execution_count": null,
   "metadata": {
    "collapsed": true
   },
   "outputs": [],
   "source": []
  }
 ],
 "metadata": {
  "kernelspec": {
   "display_name": "Python 3",
   "language": "python",
   "name": "python3"
  },
  "language_info": {
   "codemirror_mode": {
    "name": "ipython",
    "version": 3
   },
   "file_extension": ".py",
   "mimetype": "text/x-python",
   "name": "python",
   "nbconvert_exporter": "python",
   "pygments_lexer": "ipython3",
   "version": "3.6.4"
  }
 },
 "nbformat": 4,
 "nbformat_minor": 2
}
